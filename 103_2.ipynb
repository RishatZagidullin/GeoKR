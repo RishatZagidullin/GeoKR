{
 "cells": [
  {
   "cell_type": "markdown",
   "metadata": {},
   "source": [
    "# Задание 1\n",
    "\n",
    "1. Вывести на экран числа от 100 до 0 в обратном порядке."
   ]
  },
  {
   "cell_type": "code",
   "execution_count": null,
   "metadata": {},
   "outputs": [],
   "source": []
  },
  {
   "cell_type": "markdown",
   "metadata": {},
   "source": [
    "# Задание 2\n",
    "\n",
    "1. Программа просит ввести целое число от 1 до 958.\n",
    "2. Вы вводите число.\n",
    "3. В ответ программа пишет делится ли число на 10 без остатка."
   ]
  },
  {
   "cell_type": "code",
   "execution_count": null,
   "metadata": {},
   "outputs": [],
   "source": []
  },
  {
   "cell_type": "markdown",
   "metadata": {},
   "source": [
    "# Задание 3\n",
    "\n",
    "1. Объясните что делает функция `numpy.linalg.solve` (нужен гугл)."
   ]
  },
  {
   "cell_type": "code",
   "execution_count": null,
   "metadata": {},
   "outputs": [],
   "source": []
  },
  {
   "cell_type": "markdown",
   "metadata": {},
   "source": [
    "# Задание 4\n",
    "\n",
    "1. Создать случайную матрицу (10 на 10).\n",
    "2. Вывести на экран элементы главной диагонали этой матрицы."
   ]
  },
  {
   "cell_type": "code",
   "execution_count": null,
   "metadata": {},
   "outputs": [],
   "source": []
  },
  {
   "cell_type": "markdown",
   "metadata": {},
   "source": [
    "# Задание 5\n",
    "\n",
    "1. Создать случайный одномерный массив (от -3 до 8, 100 чисел).\n",
    "2. Вывести на экран сумму отрицательных элементов массива."
   ]
  },
  {
   "cell_type": "code",
   "execution_count": null,
   "metadata": {},
   "outputs": [],
   "source": []
  },
  {
   "cell_type": "markdown",
   "metadata": {},
   "source": [
    "# Задание 6\n",
    "\n",
    "1. Создать две матрицы (одна 2 на 5 а другая 5 на 2).\n",
    "2. Перемножить их (должна получиться матрица 2 на 2).\n",
    "3. Можно (но необязательно) пользоваться библиотечными функциями."
   ]
  },
  {
   "cell_type": "code",
   "execution_count": null,
   "metadata": {},
   "outputs": [],
   "source": []
  },
  {
   "cell_type": "markdown",
   "metadata": {},
   "source": [
    "# Задание 7\n",
    "\n",
    "1. Объяснить своими словами разницу между циклом `for` и циклом `while`.\n",
    "2. Придумать два примера с использованием этих видов циклов."
   ]
  },
  {
   "cell_type": "markdown",
   "metadata": {},
   "source": [
    "ОТВЕТ НАПИСАТЬ НИЖЕ\n",
    "  \n",
    "***ВОТ ТУТ***"
   ]
  },
  {
   "cell_type": "markdown",
   "metadata": {},
   "source": [
    "# Задание 8\n",
    "\n",
    "1. Объяснить своими словами за что отвечают ключевые слова `if`, `elif`, `else`.\n",
    "2. Придумать пример использования этих ключевых слов."
   ]
  },
  {
   "cell_type": "markdown",
   "metadata": {},
   "source": [
    "ОТВЕТ НАПИСАТЬ НИЖЕ\n",
    "  \n",
    "***ВОТ ТУТ***"
   ]
  },
  {
   "cell_type": "markdown",
   "metadata": {},
   "source": [
    "# Задание 9\n",
    "\n",
    "1. Создать **ФУНКЦИЮ(!)** которая просит ввести величину угла в градусах.\n",
    "2. Далее на экран надо вывести величину этого угла в радианах."
   ]
  },
  {
   "cell_type": "code",
   "execution_count": null,
   "metadata": {},
   "outputs": [],
   "source": []
  },
  {
   "cell_type": "markdown",
   "metadata": {},
   "source": [
    "# Задание 10\n",
    "\n",
    "1. Погуглить про аргумент `end` в функции `print()`.\n",
    "2. Объяснить за что этот аргумент отвечает."
   ]
  },
  {
   "cell_type": "code",
   "execution_count": null,
   "metadata": {},
   "outputs": [],
   "source": []
  }
 ],
 "metadata": {
  "kernelspec": {
   "display_name": "Python 3 (ipykernel)",
   "language": "python",
   "name": "python3"
  },
  "language_info": {
   "codemirror_mode": {
    "name": "ipython",
    "version": 3
   },
   "file_extension": ".py",
   "mimetype": "text/x-python",
   "name": "python",
   "nbconvert_exporter": "python",
   "pygments_lexer": "ipython3",
   "version": "3.10.9"
  }
 },
 "nbformat": 4,
 "nbformat_minor": 4
}
